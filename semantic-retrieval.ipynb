{
 "cells": [
  {
   "cell_type": "code",
   "execution_count": 1,
   "id": "3863844a-2aba-49b5-82dc-55dcd91a70b9",
   "metadata": {},
   "outputs": [
    {
     "name": "stdin",
     "output_type": "stream",
     "text": [
      " ········\n"
     ]
    }
   ],
   "source": [
    "import getpass\n",
    "import os\n",
    "\n",
    "os.environ[\"LANGSMITH_TRACING\"] = \"true\"\n",
    "os.environ[\"LANGSMITH_API_KEY\"] = getpass.getpass()"
   ]
  },
  {
   "cell_type": "code",
   "execution_count": 2,
   "id": "1b43ad54-f1ab-4e5c-bfa0-81350c7fa90e",
   "metadata": {},
   "outputs": [],
   "source": [
    "from langchain_core.documents import Document\n",
    "\n",
    "documents = [\n",
    "    Document(\n",
    "        page_content=\"Dogs are great companions, known for their loyalty and friendliness.\",\n",
    "        metadata={\"source\": \"mammal-pets-doc\"},\n",
    "    ),\n",
    "    Document(\n",
    "        page_content=\"Cats are independent pets that often enjoy their own space.\",\n",
    "        metadata={\"source\": \"mammal-pets-doc\"},\n",
    "    ),\n",
    "]"
   ]
  },
  {
   "cell_type": "code",
   "execution_count": 31,
   "id": "677244a7-3a9e-4efa-b1de-45375674e16c",
   "metadata": {},
   "outputs": [
    {
     "name": "stdout",
     "output_type": "stream",
     "text": [
      "./research.pdf\n",
      "🔍 Loader created\n",
      "hello\n",
      "110\n"
     ]
    }
   ],
   "source": [
    "from langchain_community.document_loaders import PyPDFLoader\n",
    "\n",
    "file_path = \"./research.pdf\"\n",
    "print(file_path)\n",
    "loader = PyPDFLoader(file_path)\n",
    "print(\"🔍 Loader created\")\n",
    "\n",
    "try:\n",
    "    docs = loader.load()\n",
    "    print('hello')\n",
    "    print(len(docs))\n",
    "except Exception as e:\n",
    "    print(\"Error:\", e)\n",
    "\n"
   ]
  },
  {
   "cell_type": "code",
   "execution_count": 19,
   "id": "96becea8-5b84-4a35-9ebd-aa13a15a7f0d",
   "metadata": {},
   "outputs": [
    {
     "name": "stdout",
     "output_type": "stream",
     "text": [
      "Contents\n",
      "About 1 ................................................................................................................................................................................... \n",
      "Chapter 1: Getting started with React 2 ............................................................................................................... \n",
      "Section 1.1: What is ReactJS? 2 ........................................................................................................................................ \n",
      "Section 1.2: Installation or Setup 3 .................................................................................................................................. \n",
      "Section 1.3: Hello World with Stateless Functions 4 ....................................................................................................... \n",
      "Section 1.4: Absolute Basics of Creating Reusable Components 5 ............................................................................. \n",
      "Section 1.5: Create React App 6 ...................................................................................................................................... \n",
      "Section 1.6: Hello World 7 ................................................................................................................................................. \n",
      "Section 1.7: Hello World Component 8 ........................................................................................................................... \n",
      "Chapter 2: Components 11 ........................................................................................................................................... \n",
      "Section 2.1: Creating Components 11 .........................................................................................................\n",
      "\n",
      "{'producer': '3-Heights(TM) PDF Optimization Shell 4.8.25.2 (http://www.pdf-tools.com)', 'creator': 'TCPDF', 'creationdate': \"20180504111451+00'00'\", 'title': 'React JS Notes for Professionals', 'subject': 'React JS', 'author': 'GoalKicker.com', 'keywords': 'React JS Notes for Professionals', 'moddate': '2018-05-04T12:14:31+00:00', 'source': './research.pdf', 'total_pages': 110, 'page': 1, 'page_label': '2'}\n"
     ]
    }
   ],
   "source": [
    "\n",
    "# print(f\"{docs[1].page_content[:1800]}\\n\")\n",
    "# print(docs[1].metadata)"
   ]
  },
  {
   "cell_type": "code",
   "execution_count": 4,
   "id": "069ae43e-fd92-420f-8ca2-add53d1755a5",
   "metadata": {},
   "outputs": [
    {
     "data": {
      "text/plain": [
       "Document(metadata={'producer': '3-Heights(TM) PDF Optimization Shell 4.8.25.2 (http://www.pdf-tools.com)', 'creator': 'TCPDF', 'creationdate': \"20180504111451+00'00'\", 'title': 'React JS Notes for Professionals', 'subject': 'React JS', 'author': 'GoalKicker.com', 'keywords': 'React JS Notes for Professionals', 'moddate': '2018-05-04T12:14:31+00:00', 'source': './research.pdf', 'total_pages': 110, 'page': 0, 'page_label': '1', 'start_index': 0}, page_content='React JS\\nNotes for Professionals\\nReact JS\\nNotes for Professionals\\nGoalKicker.com\\nFree Programming Books\\nDisclaimer\\nThis is an uno\\ue024cial free book created for educational purposes and is\\nnot a\\ue024liated with o\\ue024cial React JS group(s) or company(s).\\nAll trademarks and registered trademarks are\\nthe property of their respective owners\\n100+ pages\\nof professional hints and tricks')"
      ]
     },
     "execution_count": 4,
     "metadata": {},
     "output_type": "execute_result"
    }
   ],
   "source": [
    "from langchain_text_splitters import RecursiveCharacterTextSplitter\n",
    "\n",
    "text_splitter = RecursiveCharacterTextSplitter(\n",
    "    chunk_size=1000, chunk_overlap=200, add_start_index=True\n",
    ")\n",
    "all_splits = text_splitter.split_documents(docs)\n",
    "\n",
    "all_splits[0]"
   ]
  },
  {
   "cell_type": "code",
   "execution_count": 5,
   "id": "e1d001cf-26f8-4f30-a870-8ffc1cceef8f",
   "metadata": {},
   "outputs": [
    {
     "name": "stdin",
     "output_type": "stream",
     "text": [
      "Enter API key for Google Gemini:  ········\n"
     ]
    }
   ],
   "source": [
    "import getpass\n",
    "import os\n",
    "\n",
    "if not os.environ.get(\"GOOGLE_API_KEY\"):\n",
    "  os.environ[\"GOOGLE_API_KEY\"] = getpass.getpass(\"Enter API key for Google Gemini: \")\n",
    "\n",
    "from langchain_google_genai import GoogleGenerativeAIEmbeddings\n",
    "\n",
    "embeddings = GoogleGenerativeAIEmbeddings(model=\"models/embedding-001\")"
   ]
  },
  {
   "cell_type": "code",
   "execution_count": 8,
   "id": "5bc94328-d35d-4ef3-96d5-d984421c2a55",
   "metadata": {},
   "outputs": [
    {
     "name": "stdout",
     "output_type": "stream",
     "text": [
      "Generated vectors of length 768\n",
      "\n",
      "[0.05509152635931969, -0.01796991191804409, -0.033930450677871704, -0.057573217898607254, 0.07959714531898499, 0.0312516912817955, 0.009266228415071964, 0.0037142718210816383, 0.02444448508322239, 0.06996161490678787]\n"
     ]
    }
   ],
   "source": [
    "vector_1 = embeddings.embed_query(all_splits[0].page_content)\n",
    "vector_2 = embeddings.embed_query(all_splits[1].page_content)\n",
    "\n",
    "assert len(vector_1) == len(vector_2)\n",
    "print(f\"Generated vectors of length {len(vector_1)}\\n\")\n",
    "print(vector_1[:10])"
   ]
  },
  {
   "cell_type": "code",
   "execution_count": 10,
   "id": "de16dc00-587d-4a05-96b9-87a9c7cb4ed3",
   "metadata": {},
   "outputs": [],
   "source": [
    "from langchain_core.vectorstores import InMemoryVectorStore\n",
    "\n",
    "vector_store = InMemoryVectorStore(embeddings)"
   ]
  },
  {
   "cell_type": "code",
   "execution_count": 15,
   "id": "dbd8e809-38a9-49d2-89ac-f0377f6cf205",
   "metadata": {},
   "outputs": [],
   "source": [
    "ids = vector_store.add_documents(documents=all_splits)"
   ]
  },
  {
   "cell_type": "code",
   "execution_count": 20,
   "id": "16bffa01-0e95-4980-944b-8d5f81b10f4b",
   "metadata": {},
   "outputs": [
    {
     "name": "stdout",
     "output_type": "stream",
     "text": [
      "page_content='React JS\n",
      "Notes for Professionals\n",
      "React JS\n",
      "Notes for Professionals\n",
      "GoalKicker.com\n",
      "Free Programming Books\n",
      "Disclaimer\n",
      "This is an unocial free book created for educational purposes and is\n",
      "not aliated with ocial React JS group(s) or company(s).\n",
      "All trademarks and registered trademarks are\n",
      "the property of their respective owners\n",
      "100+ pages\n",
      "of professional hints and tricks' metadata={'producer': '3-Heights(TM) PDF Optimization Shell 4.8.25.2 (http://www.pdf-tools.com)', 'creator': 'TCPDF', 'creationdate': \"20180504111451+00'00'\", 'title': 'React JS Notes for Professionals', 'subject': 'React JS', 'author': 'GoalKicker.com', 'keywords': 'React JS Notes for Professionals', 'moddate': '2018-05-04T12:14:31+00:00', 'source': './research.pdf', 'total_pages': 110, 'page': 0, 'page_label': '1', 'start_index': 0}\n"
     ]
    }
   ],
   "source": [
    "results = vector_store.similarity_search(\n",
    "    \"What are benefits of react js ?\"\n",
    ")\n",
    "\n",
    "print(results[0])"
   ]
  },
  {
   "cell_type": "code",
   "execution_count": 30,
   "id": "2aac44b7-d8fe-4beb-9d55-98dc9ecd4863",
   "metadata": {},
   "outputs": [
    {
     "name": "stdout",
     "output_type": "stream",
     "text": [
      "page_content='You may also like' metadata={'producer': '3-Heights(TM) PDF Optimization Shell 4.8.25.2 (http://www.pdf-tools.com)', 'creator': 'TCPDF', 'creationdate': \"20180504111451+00'00'\", 'title': 'React JS Notes for Professionals', 'subject': 'React JS', 'author': 'GoalKicker.com', 'keywords': 'React JS Notes for Professionals', 'moddate': '2018-05-04T12:14:31+00:00', 'source': './research.pdf', 'total_pages': 110, 'page': 109, 'page_label': '110', 'start_index': 0}\n"
     ]
    }
   ],
   "source": [
    "results = await vector_store.asimilarity_search(\"where lifecycle methods are used with example\")\n",
    "\n",
    "print(results[0])"
   ]
  },
  {
   "cell_type": "code",
   "execution_count": 23,
   "id": "5a5def7c-175b-4fdc-803b-84a0d9ee2996",
   "metadata": {},
   "outputs": [
    {
     "name": "stdout",
     "output_type": "stream",
     "text": [
      "Score: 0.8063224540448231\n",
      "\n",
      "page_content='Chapter 22: React Forms 85 ........................................................................................................................................ \n",
      "Section 22.1: Controlled Components 85 ........................................................................................................................' metadata={'producer': '3-Heights(TM) PDF Optimization Shell 4.8.25.2 (http://www.pdf-tools.com)', 'creator': 'TCPDF', 'creationdate': \"20180504111451+00'00'\", 'title': 'React JS Notes for Professionals', 'subject': 'React JS', 'author': 'GoalKicker.com', 'keywords': 'React JS Notes for Professionals', 'moddate': '2018-05-04T12:14:31+00:00', 'source': './research.pdf', 'total_pages': 110, 'page': 2, 'page_label': '3', 'start_index': 7041}\n"
     ]
    }
   ],
   "source": [
    "# Note that providers implement different scores; the score here\n",
    "# is a distance metric that varies inversely with similarity.\n",
    "\n",
    "results = vector_store.similarity_search_with_score(\"How react components communicate ?\")\n",
    "doc, score = results[0]\n",
    "print(f\"Score: {score}\\n\")\n",
    "print(doc)"
   ]
  },
  {
   "cell_type": "code",
   "execution_count": 34,
   "id": "e03d38a5-4223-4359-82b2-31d0dbb34075",
   "metadata": {},
   "outputs": [
    {
     "name": "stdout",
     "output_type": "stream",
     "text": [
      "page_content='Step 6: Create webpack conﬁguration\n",
      "Create a ﬁle called webpack.conﬁg.js in the root of your project and copy this code into it:\n",
      "webpack.conﬁg.js\n",
      "var path = require('path');\n",
      "var config = {\n",
      "  context: path.resolve(__dirname + '/src'),\n",
      "  entry: './index.jsx',\n",
      "  output: {\n",
      "    filename: 'app.js',\n",
      "    path: path.resolve(__dirname + '/dist'),\n",
      "  },\n",
      "  devServer: {\n",
      "    contentBase: path.join(__dirname + '/dist'),\n",
      "    port: 3000,\n",
      "    open: true,' metadata={'producer': '3-Heights(TM) PDF Optimization Shell 4.8.25.2 (http://www.pdf-tools.com)', 'creator': 'TCPDF', 'creationdate': \"20180504111451+00'00'\", 'title': 'React JS Notes for Professionals', 'subject': 'React JS', 'author': 'GoalKicker.com', 'keywords': 'React JS Notes for Professionals', 'moddate': '2018-05-04T12:14:31+00:00', 'source': './research.pdf', 'total_pages': 110, 'page': 59, 'page_label': '60', 'start_index': 773}\n"
     ]
    }
   ],
   "source": [
    "embedding = embeddings.embed_query(\"How to setup webpack in react ?\")\n",
    "\n",
    "results = vector_store.similarity_search_by_vector(embedding)\n",
    "print(results[1])"
   ]
  },
  {
   "cell_type": "code",
   "execution_count": 35,
   "id": "f2ad9ed4-e29f-4c8c-8371-8e7d075d338b",
   "metadata": {},
   "outputs": [
    {
     "data": {
      "text/plain": [
       "[[Document(id='304f5232-31f0-451b-a57b-e0ebb208099d', metadata={'producer': '3-Heights(TM) PDF Optimization Shell 4.8.25.2 (http://www.pdf-tools.com)', 'creator': 'TCPDF', 'creationdate': \"20180504111451+00'00'\", 'title': 'React JS Notes for Professionals', 'subject': 'React JS', 'author': 'GoalKicker.com', 'keywords': 'React JS Notes for Professionals', 'moddate': '2018-05-04T12:14:31+00:00', 'source': './research.pdf', 'total_pages': 110, 'page': 109, 'page_label': '110', 'start_index': 0}, page_content='You may also like')],\n",
       " [Document(id='0d7cfe91-b1c9-4c61-935a-e9afb1398adc', metadata={'producer': '3-Heights(TM) PDF Optimization Shell 4.8.25.2 (http://www.pdf-tools.com)', 'creator': 'TCPDF', 'creationdate': \"20180504111451+00'00'\", 'title': 'React JS Notes for Professionals', 'subject': 'React JS', 'author': 'GoalKicker.com', 'keywords': 'React JS Notes for Professionals', 'moddate': '2018-05-04T12:14:31+00:00', 'source': './research.pdf', 'total_pages': 110, 'page': 109, 'page_label': '110', 'start_index': 0}, page_content='You may also like')]]"
      ]
     },
     "execution_count": 35,
     "metadata": {},
     "output_type": "execute_result"
    }
   ],
   "source": [
    "from typing import List\n",
    "\n",
    "from langchain_core.documents import Document\n",
    "from langchain_core.runnables import chain\n",
    "\n",
    "\n",
    "@chain\n",
    "def retriever(query: str) -> List[Document]:\n",
    "    return vector_store.similarity_search(query, k=1)\n",
    "\n",
    "\n",
    "retriever.batch(\n",
    "    [\n",
    "        \"How react components communicate ?\",\n",
    "        \"How to setup webpack in react ?\",\n",
    "    ],\n",
    ")"
   ]
  },
  {
   "cell_type": "code",
   "execution_count": null,
   "id": "a5e7d443-c51d-4823-8117-d5d6de09409d",
   "metadata": {},
   "outputs": [],
   "source": [
    "retriever = vector_store.as_retriever(\n",
    "    search_type=\"similarity\",\n",
    "    search_kwargs={\"k\": 1},\n",
    ")\n",
    "\n",
    "retriever.batch(\n",
    "    [\n",
    "        \"How react components communicate ?\",\n",
    "        \"How to setup webpack in react ?\",\n",
    "    ],\n",
    ")"
   ]
  }
 ],
 "metadata": {
  "kernelspec": {
   "display_name": "Python 3 (ipykernel)",
   "language": "python",
   "name": "python3"
  },
  "language_info": {
   "codemirror_mode": {
    "name": "ipython",
    "version": 3
   },
   "file_extension": ".py",
   "mimetype": "text/x-python",
   "name": "python",
   "nbconvert_exporter": "python",
   "pygments_lexer": "ipython3",
   "version": "3.12.3"
  }
 },
 "nbformat": 4,
 "nbformat_minor": 5
}
